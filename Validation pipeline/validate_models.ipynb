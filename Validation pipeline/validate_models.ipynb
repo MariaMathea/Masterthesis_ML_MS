{
 "cells": [
  {
   "cell_type": "code",
   "execution_count": 1,
   "metadata": {},
   "outputs": [],
   "source": [
    "#Importing\n",
    "import os\n",
    "import numpy as np\n",
    "import nibabel as nib"
   ]
  },
  {
   "attachments": {},
   "cell_type": "markdown",
   "metadata": {},
   "source": [
    "### Thresolding the probability maps with following values\n",
    "Thresholding probability maps with different threshold values. This was first performed using only 0.5, the other values was later added as all other models than the nnU-Net had to be thresholded again to see what value gave them the best score.\n",
    "The code below is run for the LGA model, to threshold other probabiltiy maps the \"path_to_val\" variable has to be changed as well as the \"probability_map\" variable.\n",
    "\n",
    "! The code below is based on terminal commands and should only have to be run once !"
   ]
  },
  {
   "cell_type": "code",
   "execution_count": null,
   "metadata": {},
   "outputs": [],
   "source": [
    "#Getting list of the names of all the folder containing a probability map\n",
    "all_files_list = [] #List that contains the Icometrix number of all subjects in the validation set\n",
    "path_to_val = \"/home/maarhus/Documents/Master/LST_data/LGA/MS_DATA_VAL\" #Path to validation set\n",
    "\n",
    "for path, dirs, files in os.walk(path_to_val): \n",
    "    if len(dirs) == 2: #Set to 2 because the LGA makes two folder\n",
    "        all_files_list.append(os.path.basename(path))"
   ]
  },
  {
   "cell_type": "code",
   "execution_count": 4,
   "metadata": {},
   "outputs": [],
   "source": [
    "#Thresholding\n",
    "thr_list = [0.05, 0.1, 0.15, 0.2, 0.3, 0.4, 0.5, 0.6, 0.7, 0.8, 0.9]\n",
    "probability_map = \"ples_lga_0.2_rmFLAIR.nii\"\n",
    "\n",
    "for file in all_files_list:\n",
    "    for num in thr_list:\n",
    "        !cd \"{path_to_val}/{file}\" && fslmaths {probability_map} -thr {num} -bin \"thr_{num}_map.nii\"\n"
   ]
  },
  {
   "cell_type": "code",
   "execution_count": 5,
   "metadata": {},
   "outputs": [],
   "source": [
    "#Unzipping folder\n",
    "for file in all_files_list:\n",
    "    for num in thr_list:\n",
    "        !cd \"{path_to_val}/{file}\" && gunzip \"thr_{num}_map.nii.gz\""
   ]
  },
  {
   "cell_type": "code",
   "execution_count": 6,
   "metadata": {},
   "outputs": [],
   "source": [
    "#Make folder to contain all thresholded probability maps\n",
    "for file in all_files_list:\n",
    "    !cd \"{path_to_val}/{file}\" && mkdir thresholds"
   ]
  },
  {
   "cell_type": "code",
   "execution_count": 7,
   "metadata": {},
   "outputs": [],
   "source": [
    "#Moving thresholded probability maps into its own folder\n",
    "for file in all_files_list:\n",
    "    for num in thr_list:\n",
    "        !cd \"{path_to_val}/{file}\" && mv \"thr_{num}_map.nii\" thresholds"
   ]
  },
  {
   "attachments": {},
   "cell_type": "markdown",
   "metadata": {},
   "source": [
    "### Calculating dice score of all thresholds\n",
    "This was first performed after the probability maps were thresholded at 0.5 and was later changed to check the dice score of multiple thresholds"
   ]
  },
  {
   "cell_type": "code",
   "execution_count": 17,
   "metadata": {},
   "outputs": [],
   "source": [
    "#The function below use images in the form of numpy arrays to calcualte the scores\n",
    "def my_dice(img1,img2):\n",
    " intersection = np.logical_and(img1, img2) #Finding intersection between the images\n",
    " union = np.logical_or(img1, img2) #Finding union between images\n",
    " dice = (2*np.sum(intersection))/(np.sum(union)+np.sum(intersection)) #Calculating dice score\n",
    " return dice"
   ]
  },
  {
   "cell_type": "code",
   "execution_count": 11,
   "metadata": {},
   "outputs": [
    {
     "name": "stdout",
     "output_type": "stream",
     "text": [
      "Score of prediction in folder 2492322305 with threshold 0.05 is: 0.6916266126992158\n",
      "Score of prediction in folder 2492322305 with threshold 0.1 is: 0.6949588477366255\n",
      "Score of prediction in folder 2492322305 with threshold 0.15 is: 0.6917488323819408\n",
      "Score of prediction in folder 2492322305 with threshold 0.2 is: 0.6924888772572625\n",
      "Score of prediction in folder 2492322305 with threshold 0.3 is: 0.6903311258278145\n",
      "Score of prediction in folder 2492322305 with threshold 0.4 is: 0.688550840672538\n",
      "Score of prediction in folder 2492322305 with threshold 0.5 is: 0.6851453175457481\n",
      "Score of prediction in folder 2492322305 with threshold 0.6 is: 0.6834551854860547\n",
      "Score of prediction in folder 2492322305 with threshold 0.7 is: 0.6817192600652884\n",
      "Score of prediction in folder 2492322305 with threshold 0.8 is: 0.6806883365200764\n",
      "Score of prediction in folder 2492322305 with threshold 0.9 is: 0.6783465644675609\n",
      "The largest dice score from folder 2492322305 is 0.6949588477366255 with thr = 0.1\n",
      "Score of prediction in folder 2279701314 with threshold 0.05 is: 0.8776438031231468\n",
      "Score of prediction in folder 2279701314 with threshold 0.1 is: 0.8703481392557023\n",
      "Score of prediction in folder 2279701314 with threshold 0.15 is: 0.8680080482897384\n",
      "Score of prediction in folder 2279701314 with threshold 0.2 is: 0.868000808570851\n",
      "Score of prediction in folder 2279701314 with threshold 0.3 is: 0.8630248675091724\n",
      "Score of prediction in folder 2279701314 with threshold 0.4 is: 0.8601269711243088\n",
      "Score of prediction in folder 2279701314 with threshold 0.5 is: 0.8568490333196216\n",
      "Score of prediction in folder 2279701314 with threshold 0.6 is: 0.8554937126365698\n",
      "Score of prediction in folder 2279701314 with threshold 0.7 is: 0.8536585365853658\n",
      "Score of prediction in folder 2279701314 with threshold 0.8 is: 0.8530020703933747\n",
      "Score of prediction in folder 2279701314 with threshold 0.9 is: 0.8519286603069266\n",
      "The largest dice score from folder 2279701314 is 0.8776438031231468 with thr = 0.05\n",
      "Score of prediction in folder 2351479330 with threshold 0.05 is: 0.7050875499793189\n",
      "Score of prediction in folder 2351479330 with threshold 0.1 is: 0.7052527812984086\n",
      "Score of prediction in folder 2351479330 with threshold 0.15 is: 0.7045065601825442\n",
      "Score of prediction in folder 2351479330 with threshold 0.2 is: 0.703037282280121\n",
      "Score of prediction in folder 2351479330 with threshold 0.3 is: 0.6999707858603564\n",
      "Score of prediction in folder 2351479330 with threshold 0.4 is: 0.697393609188632\n",
      "Score of prediction in folder 2351479330 with threshold 0.5 is: 0.6966058989180376\n",
      "Score of prediction in folder 2351479330 with threshold 0.6 is: 0.6946268656716418\n",
      "Score of prediction in folder 2351479330 with threshold 0.7 is: 0.6929535232383808\n",
      "Score of prediction in folder 2351479330 with threshold 0.8 is: 0.6902788244159759\n",
      "Score of prediction in folder 2351479330 with threshold 0.9 is: 0.6877458396369137\n",
      "The largest dice score from folder 2351479330 is 0.7052527812984086 with thr = 0.1\n",
      "Score of prediction in folder 3078334985 with threshold 0.05 is: 0.17282350399654353\n",
      "Score of prediction in folder 3078334985 with threshold 0.1 is: 0.17908438061041293\n",
      "Score of prediction in folder 3078334985 with threshold 0.15 is: 0.1830367460134042\n",
      "Score of prediction in folder 3078334985 with threshold 0.2 is: 0.18730686950320893\n",
      "Score of prediction in folder 3078334985 with threshold 0.3 is: 0.191699604743083\n",
      "Score of prediction in folder 3078334985 with threshold 0.4 is: 0.1963377416073245\n",
      "Score of prediction in folder 3078334985 with threshold 0.5 is: 0.2009893256964332\n",
      "Score of prediction in folder 3078334985 with threshold 0.6 is: 0.2047327838340867\n",
      "Score of prediction in folder 3078334985 with threshold 0.7 is: 0.20781334780249594\n",
      "Score of prediction in folder 3078334985 with threshold 0.8 is: 0.21026626406807578\n",
      "Score of prediction in folder 3078334985 with threshold 0.9 is: 0.21210438645197113\n",
      "The largest dice score from folder 3078334985 is 0.21210438645197113 with thr = 0.9\n",
      "Score of prediction in folder 2784908184 with threshold 0.05 is: 0.6624397400964158\n",
      "Score of prediction in folder 2784908184 with threshold 0.1 is: 0.6677085578788532\n",
      "Score of prediction in folder 2784908184 with threshold 0.15 is: 0.6702880658436214\n",
      "Score of prediction in folder 2784908184 with threshold 0.2 is: 0.6720755765490414\n",
      "Score of prediction in folder 2784908184 with threshold 0.3 is: 0.6726294933484291\n",
      "Score of prediction in folder 2784908184 with threshold 0.4 is: 0.6738133455629443\n",
      "Score of prediction in folder 2784908184 with threshold 0.5 is: 0.6750043425395171\n",
      "Score of prediction in folder 2784908184 with threshold 0.6 is: 0.6758983347940403\n",
      "Score of prediction in folder 2784908184 with threshold 0.7 is: 0.6778065427159332\n",
      "Score of prediction in folder 2784908184 with threshold 0.8 is: 0.6780323210797372\n",
      "Score of prediction in folder 2784908184 with threshold 0.9 is: 0.6788586406147614\n",
      "The largest dice score from folder 2784908184 is 0.6788586406147614 with thr = 0.9\n",
      "Score of prediction in folder 1028340475 with threshold 0.05 is: 0.4639468690702087\n",
      "Score of prediction in folder 1028340475 with threshold 0.1 is: 0.4603629417382999\n",
      "Score of prediction in folder 1028340475 with threshold 0.15 is: 0.457033125300048\n",
      "Score of prediction in folder 1028340475 with threshold 0.2 is: 0.4532304725168756\n",
      "Score of prediction in folder 1028340475 with threshold 0.3 is: 0.4491771539206196\n",
      "Score of prediction in folder 1028340475 with threshold 0.4 is: 0.4475728155339806\n",
      "Score of prediction in folder 1028340475 with threshold 0.5 is: 0.4430379746835443\n",
      "Score of prediction in folder 1028340475 with threshold 0.6 is: 0.44\n",
      "Score of prediction in folder 1028340475 with threshold 0.7 is: 0.43771372740595993\n",
      "Score of prediction in folder 1028340475 with threshold 0.8 is: 0.4354207436399217\n",
      "Score of prediction in folder 1028340475 with threshold 0.9 is: 0.43312101910828027\n",
      "The largest dice score from folder 1028340475 is 0.4639468690702087 with thr = 0.05\n",
      "Score of prediction in folder 1836288689 with threshold 0.05 is: 0.5979802837220486\n",
      "Score of prediction in folder 1836288689 with threshold 0.1 is: 0.6011332840601133\n",
      "Score of prediction in folder 1836288689 with threshold 0.15 is: 0.6011488511488512\n",
      "Score of prediction in folder 1836288689 with threshold 0.2 is: 0.6021180030257186\n",
      "Score of prediction in folder 1836288689 with threshold 0.3 is: 0.6033776867963152\n",
      "Score of prediction in folder 1836288689 with threshold 0.4 is: 0.6016828478964401\n",
      "Score of prediction in folder 1836288689 with threshold 0.5 is: 0.6024787997390737\n",
      "Score of prediction in folder 1836288689 with threshold 0.6 is: 0.5994743758212878\n",
      "Score of prediction in folder 1836288689 with threshold 0.7 is: 0.5978835978835979\n",
      "Score of prediction in folder 1836288689 with threshold 0.8 is: 0.59853626081171\n",
      "Score of prediction in folder 1836288689 with threshold 0.9 is: 0.5970348604247362\n",
      "The largest dice score from folder 1836288689 is 0.6033776867963152 with thr = 0.3\n",
      "Score of prediction in folder 8630791641 with threshold 0.05 is: 0.015873015873015872\n",
      "Score of prediction in folder 8630791641 with threshold 0.1 is: 0.015968063872255488\n",
      "Score of prediction in folder 8630791641 with threshold 0.15 is: 0.01603206412825651\n",
      "Score of prediction in folder 8630791641 with threshold 0.2 is: 0.01606425702811245\n",
      "Score of prediction in folder 8630791641 with threshold 0.3 is: 0.01609657947686117\n",
      "Score of prediction in folder 8630791641 with threshold 0.4 is: 0.01616161616161616\n",
      "Score of prediction in folder 8630791641 with threshold 0.5 is: 0.016194331983805668\n",
      "Score of prediction in folder 8630791641 with threshold 0.6 is: 0.016227180527383367\n",
      "Score of prediction in folder 8630791641 with threshold 0.7 is: 0.016227180527383367\n",
      "Score of prediction in folder 8630791641 with threshold 0.8 is: 0.016227180527383367\n",
      "Score of prediction in folder 8630791641 with threshold 0.9 is: 0.016227180527383367\n",
      "The largest dice score from folder 8630791641 is 0.016227180527383367 with thr = 0.6\n"
     ]
    }
   ],
   "source": [
    "#Saving a list of all the best threshold found\n",
    "all_best_threshold = []\n",
    "\n",
    "#Finding the dice scores for every thresholded probability map for all subjects in validation set\n",
    "for file in all_files_list:\n",
    "    #Starting with a score of 0\n",
    "    best_score = 0 \n",
    "    \n",
    "    #For all thresholds in list\n",
    "    for num in thr_list:\n",
    "        #Loading thresholded probability map, NIfTY image\n",
    "        path_pred = f'{path_to_val}/{file}/thresholds/thr_{num}_map.nii'\n",
    "\n",
    "        #Loading true lesion mask, NIfTY image \n",
    "        path_mask = f'{path_to_val}/{file}/lesions_binarised.nii'\n",
    "\n",
    "        #Making the NIfTY images into numpy arrays to calculate score\n",
    "        pred_image = nib.load(path_pred).get_fdata()\n",
    "        mask_image = nib.load(path_mask).get_fdata()\n",
    "\n",
    "        #Calculating dice score and printing the name of the folder, threshold value and corresponding score\n",
    "        dice_score = my_dice(pred_image, mask_image)\n",
    "        print(f'Score of prediction in folder {file} with threshold {num} is: {dice_score}')\n",
    "        \n",
    "        #If the score so far has been the best, set best_score equal to this\n",
    "        if dice_score > best_score:\n",
    "            best_score = dice_score\n",
    "            best_thr = num\n",
    "\n",
    "    #After iterating through all the thresholds, print which threshold that resulted in the largest dice score\n",
    "    print(f'The largest dice score from folder {file} is {best_score} with thr = {best_thr}')\n",
    "\n",
    "    #Adding largest threshols from current folder to list of all best thresholds\n",
    "    all_best_threshold.append(best_thr)"
   ]
  },
  {
   "cell_type": "code",
   "execution_count": 21,
   "metadata": {},
   "outputs": [
    {
     "name": "stdout",
     "output_type": "stream",
     "text": [
      "0.1\n"
     ]
    }
   ],
   "source": [
    "#Finding what threshold value ended up giving the best dice score the most times\n",
    "#This was used as the value to threshold the probability maps in the test set at\n",
    "best_thr_overall = max(all_best_threshold, key=all_best_threshold.count)\n",
    "print(best_thr_overall)"
   ]
  },
  {
   "attachments": {},
   "cell_type": "markdown",
   "metadata": {},
   "source": [
    "### Thresolding test files with value found from validation set "
   ]
  },
  {
   "cell_type": "code",
   "execution_count": 2,
   "metadata": {},
   "outputs": [],
   "source": [
    "test_files = []\n",
    "path_to_test = \"/home/maarhus/Documents/Master/LST_data/LGA/MS_DATA_TEST\"\n",
    "for path, dirs, files in os.walk(path_to_test):\n",
    "    #I know none of my subdirectories will have their own subfolders \n",
    "    if len(dirs) == 2: #Set to 2 because the LGA makes two foldera\n",
    "        test_files.append(os.path.basename(path))\n"
   ]
  },
  {
   "cell_type": "code",
   "execution_count": 23,
   "metadata": {},
   "outputs": [],
   "source": [
    "for file in test_files:\n",
    "    !cd \"{path_to_test}/{file}\" && fslmaths ples_lga_0.2_rmFLAIR.nii -thr {num} -bin \"thr_{best_thr_overall}_map.nii\"\n"
   ]
  },
  {
   "cell_type": "code",
   "execution_count": 24,
   "metadata": {},
   "outputs": [],
   "source": [
    "for file in test_files:\n",
    "    !cd \"{path_to_test}/{file}\" && gunzip \"thr_{best_thr_overall}_map.nii.gz\""
   ]
  }
 ],
 "metadata": {
  "kernelspec": {
   "display_name": "Python 3.8.10 64-bit",
   "language": "python",
   "name": "python3"
  },
  "language_info": {
   "codemirror_mode": {
    "name": "ipython",
    "version": 3
   },
   "file_extension": ".py",
   "mimetype": "text/x-python",
   "name": "python",
   "nbconvert_exporter": "python",
   "pygments_lexer": "ipython3",
   "version": "3.8.10"
  },
  "orig_nbformat": 4,
  "vscode": {
   "interpreter": {
    "hash": "916dbcbb3f70747c44a77c7bcd40155683ae19c65e1c03b4aa3499c5328201f1"
   }
  }
 },
 "nbformat": 4,
 "nbformat_minor": 2
}
