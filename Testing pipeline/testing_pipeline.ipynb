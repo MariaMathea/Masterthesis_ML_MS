{
 "cells": [
  {
   "cell_type": "code",
   "execution_count": 4,
   "metadata": {},
   "outputs": [],
   "source": [
    "import os\n",
    "import numpy as np\n",
    "import nibabel as nib"
   ]
  },
  {
   "attachments": {},
   "cell_type": "markdown",
   "metadata": {},
   "source": [
    "### Testing pipeline\n",
    "The following code was used to generate the dice score, sensitivity and specificity score for all the models.\n",
    "This is done for all lesion sizes and for the small lesions (Sizes decending between 100mm³ - 10mm³)\n",
    "\n",
    "The code below shows how this is done for LGA, only the path and name of the images has to be changed to get scores for the other models."
   ]
  },
  {
   "attachments": {},
   "cell_type": "markdown",
   "metadata": {},
   "source": [
    "#### Performance metrics"
   ]
  },
  {
   "cell_type": "code",
   "execution_count": 5,
   "metadata": {},
   "outputs": [],
   "source": [
    "#The three functions below use images in the form of numpy arrays to calcualte the scores\n",
    "def my_dice(img1,img2):\n",
    " intersection = np.logical_and(img1, img2) #\n",
    " union = np.logical_or(img1, img2) \n",
    " dice = (2*np.sum(intersection))/(np.sum(union)+np.sum(intersection)) \n",
    " return dice\n",
    "\n",
    "def sensitivity(pred_image, true_image):\n",
    "    TP = len(np.where(pred_image + true_image == 2)[0]) \n",
    "    FN = len(np.where(pred_image - true_image  == -1)[0]) \n",
    "    TPR = TP/(TP + FN) \n",
    "    return TPR\n",
    "\n",
    "def specificity(pred_image, true_image):\n",
    "    TN = len(np.where(pred_image + true_image == 0)[0]) \n",
    "    FP = len(np.where(pred_image - true_image  == 1)[0]) \n",
    "    TNR = TN/(TN + FP) \n",
    "    return TNR"
   ]
  },
  {
   "attachments": {},
   "cell_type": "markdown",
   "metadata": {},
   "source": [
    "#### All Lesion scores"
   ]
  },
  {
   "cell_type": "code",
   "execution_count": 13,
   "metadata": {},
   "outputs": [],
   "source": [
    "path_to_test = '/home/maarhus/Documents/Master/Results/Predictions/LGA/MS_DATA_TEST'\n",
    "\n",
    "testset = []\n",
    "for path, dirs, files in os.walk(path_to_test):\n",
    "    if len(dirs) == 2: \n",
    "        testset.append(os.path.basename(path))"
   ]
  },
  {
   "cell_type": "code",
   "execution_count": 20,
   "metadata": {},
   "outputs": [
    {
     "name": "stdout",
     "output_type": "stream",
     "text": [
      "Score of prediction in folder 2554238985 is: 0.408, 0.275, 0.99999\n",
      "Score of prediction in folder 1003101869 is: 0.632, 0.704, 0.99967\n",
      "Score of prediction in folder 6915167302 is: 0.582, 0.516, 0.99994\n",
      "Score of prediction in folder 1389542280 is: 0.781, 0.823, 0.99986\n",
      "Score of prediction in folder 2451433951 is: 0.53, 0.581, 0.99998\n",
      "Score of prediction in folder 8996005906 is: 0.195, 0.148, 0.99996\n",
      "Score of prediction in folder 9943418622 is: 0.652, 0.709, 0.99986\n",
      "Score of prediction in folder 1281058682 is: 0.048, 0.03, 0.99997\n",
      "\n",
      "The mean dice score is: 0.479\n",
      "The standard deviation of the dice score is: 0.232\n",
      "\n",
      "The mean sensitivity score is: 0.473\n",
      "The standard deviation of the sensitivity score is: 0.271\n",
      "\n",
      "The mean specificity score is: 0.9999\n",
      "The standard deviation of the specificity score is: 0.0001\n"
     ]
    }
   ],
   "source": [
    "#Lists fo save scores\n",
    "dice_score_list = []\n",
    "sensitivity_list = []\n",
    "specificity_list = []\n",
    "\n",
    "#Name of predicted and true mask\n",
    "model_predicted_mask = \"lga(0.2)_thr_0.1_map.nii\"\n",
    "true_mask = \"lesions_binarised.nii\"\n",
    "\n",
    "#Calculate performance metrics for all subjects in testset\n",
    "for file in testset:\n",
    "    pred_path = f'{path_to_test}/{file}/{model_predicted_mask}'\n",
    "    true_path = f'{path_to_test}/{file}/{true_mask}'\n",
    "\n",
    "    pred_image = nib.load(pred_path).get_fdata()\n",
    "    mask_image = nib.load(true_path).get_fdata()\n",
    "\n",
    "    dice_score = round(my_dice(pred_image, mask_image),3)\n",
    "    sens = round(sensitivity(pred_image, mask_image),3)\n",
    "    spec = round(specificity(pred_image, mask_image),5)\n",
    "\n",
    "    print(f'Score of prediction in folder {file} is: {dice_score}, {sens}, {spec}')\n",
    "\n",
    "    dice_score_list.append(dice_score)\n",
    "    sensitivity_list.append(sens)\n",
    "    specificity_list.append(spec)\n",
    "\n",
    "#Print mean DSC, sensitivity and specificity\n",
    "print()\n",
    "mean_score = np.mean(dice_score_list)\n",
    "std_score = np.std(dice_score_list)\n",
    "\n",
    "print(f'The mean dice score is: {round(mean_score,3)}')\n",
    "print(f'The standard deviation of the dice score is: {round(std_score,3)}')\n",
    "\n",
    "print()\n",
    "mean_score = np.mean(sensitivity_list)\n",
    "std_score = np.std(sensitivity_list)\n",
    "\n",
    "print(f'The mean sensitivity score is: {round(mean_score,3)}')\n",
    "print(f'The standard deviation of the sensitivity score is: {round(std_score,3)}')\n",
    "\n",
    "print()\n",
    "mean_score = np.mean(specificity_list)\n",
    "std_score = np.std(specificity_list)\n",
    "\n",
    "print(f'The mean specificity score is: {round(mean_score,5)}')\n",
    "print(f'The standard deviation of the specificity score is: {round(std_score,5)}')"
   ]
  },
  {
   "attachments": {},
   "cell_type": "markdown",
   "metadata": {},
   "source": [
    "#### Small lesion scores"
   ]
  },
  {
   "cell_type": "code",
   "execution_count": 17,
   "metadata": {},
   "outputs": [
    {
     "name": "stdout",
     "output_type": "stream",
     "text": [
      "[0.223, 0.228, 0.18, 0.182, 0.161, 0.155, 0.118, 0.089, 0.089, 0.0]\n",
      "[0.152, 0.147, 0.168, 0.162, 0.141, 0.135, 0.119, 0.12, 0.104, 0.0]\n",
      "\n",
      "[0.195, 0.197, 0.152, 0.152, 0.138, 0.13, 0.099, 0.074, 0.071, 0.0]\n",
      "[0.131, 0.125, 0.142, 0.137, 0.12, 0.11, 0.09, 0.093, 0.078, 0.0]\n",
      "\n",
      "[0.99997, 0.99998, 0.99998, 0.99998, 0.99998, 0.99999, 0.99999, 0.99999, 0.99999, 1.0]\n",
      "[1e-05, 1e-05, 1e-05, 1e-05, 1e-05, 1e-05, 1e-05, 1e-05, 0.0, 0.0]\n"
     ]
    }
   ],
   "source": [
    "snitt_dice = []\n",
    "error_dice = []\n",
    "\n",
    "snitt_sensitivity = []\n",
    "error_sensitivity = []\n",
    "\n",
    "snitt_specificity = []\n",
    "error_specificity = []\n",
    "\n",
    "path_small_lesions_test = \"/home/maarhus/Documents/Master/bwconncomp/LGA/MS_DATA_TEST\"\n",
    "path_small_lesions_true = \"/home/maarhus/Documents/Master/bwconncomp/true_test_labels\"\n",
    "\n",
    "#Calculating scores for lesion sizes 100mm³ to 10mm³ for every subject in the test set\n",
    "for size in range(100, 0, -10):\n",
    "    dice_score_list = []\n",
    "    sensitivity_list = []\n",
    "    specificity_list = []\n",
    "    \n",
    "    for file in testset:\n",
    "        #Images where larger lesions are removed\n",
    "        pred_path = f'{path_small_lesions_test}/{file}/lesions_removed_size{size}.nii'\n",
    "        true_path = f'{path_small_lesions_true}/{file}/lesions_removed_size{size}.nii'\n",
    "\n",
    "        pred_image = nib.load(pred_path).get_fdata()\n",
    "        mask_image = nib.load(true_path).get_fdata()\n",
    "\n",
    "        #Calculating scores and adding them to list to calculate mean and std\n",
    "        dice_score = my_dice(pred_image, mask_image)\n",
    "        dice_score_list.append(dice_score)\n",
    "\n",
    "        sens = sensitivity(pred_image, mask_image)\n",
    "        sensitivity_list.append(sens)\n",
    "\n",
    "        spec = specificity(pred_image, mask_image)\n",
    "        specificity_list.append(spec)\n",
    "\n",
    "    #Calculating mean\n",
    "    mean_score = np.mean(dice_score_list)\n",
    "    std_score = np.std(dice_score_list)\n",
    "\n",
    "    sens_mean = np.mean(sensitivity_list)\n",
    "    sens_std = np.std(sensitivity_list)\n",
    "\n",
    "    spec_mean = np.mean(specificity_list)\n",
    "    spec_std = np.std(specificity_list)\n",
    "\n",
    "    #Adding mean and std values to list (Rounding to 3 decimals)\n",
    "    snitt_dice.append(round(mean_score, 3))\n",
    "    error_dice.append(round(std_score, 3))\n",
    "\n",
    "    snitt_sensitivity.append(round(sens_mean, 3))\n",
    "    error_sensitivity.append(round(sens_std, 3))\n",
    "\n",
    "    snitt_specificity.append(round(spec_mean, 5))\n",
    "    error_specificity.append(round(spec_std, 5))\n",
    "\n",
    "#Printing mean scores with std\n",
    "print(snitt_dice)\n",
    "print(error_dice)\n",
    "\n",
    "print()\n",
    "print(snitt_sensitivity)\n",
    "print(error_sensitivity)\n",
    "\n",
    "print()\n",
    "print(snitt_specificity)\n",
    "print(error_specificity)"
   ]
  }
 ],
 "metadata": {
  "kernelspec": {
   "display_name": "Python 3",
   "language": "python",
   "name": "python3"
  },
  "language_info": {
   "codemirror_mode": {
    "name": "ipython",
    "version": 3
   },
   "file_extension": ".py",
   "mimetype": "text/x-python",
   "name": "python",
   "nbconvert_exporter": "python",
   "pygments_lexer": "ipython3",
   "version": "3.8.10"
  },
  "orig_nbformat": 4,
  "vscode": {
   "interpreter": {
    "hash": "916dbcbb3f70747c44a77c7bcd40155683ae19c65e1c03b4aa3499c5328201f1"
   }
  }
 },
 "nbformat": 4,
 "nbformat_minor": 2
}
