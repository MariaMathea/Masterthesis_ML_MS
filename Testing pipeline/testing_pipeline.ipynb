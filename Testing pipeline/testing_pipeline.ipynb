{
 "cells": [
  {
   "cell_type": "code",
   "execution_count": 4,
   "metadata": {},
   "outputs": [],
   "source": [
    "import os\n",
    "import numpy as np\n",
    "import nibabel as nib"
   ]
  },
  {
   "attachments": {},
   "cell_type": "markdown",
   "metadata": {},
   "source": [
    "### Performance metrics"
   ]
  },
  {
   "cell_type": "code",
   "execution_count": 5,
   "metadata": {},
   "outputs": [],
   "source": [
    "#The three functions below use images in the form of numpy arrays to calcualte the scores\n",
    "def my_dice(img1,img2):\n",
    " intersection = np.logical_and(img1, img2) #Finding intersection between the images\n",
    " union = np.logical_or(img1, img2) #Finding union between images\n",
    " dice = (2*np.sum(intersection))/(np.sum(union)+np.sum(intersection)) #Calculating dice score\n",
    " return dice\n",
    "\n",
    "def sensitivity(pred_image, true_image):\n",
    "    TP = len(np.where(pred_image + true_image == 2)[0]) #True positives\n",
    "    FN = len(np.where(pred_image - true_image  == -1)[0]) #False negatives\n",
    "    TPR = TP/(TP + FN) #Getting the True Postive Rate (Sensitivity)\n",
    "    return TPR\n",
    "\n",
    "def specificity(pred_image, true_image):\n",
    "    TN = len(np.where(pred_image + true_image == 0)[0]) #True negatives\n",
    "    FP = len(np.where(pred_image - true_image  == 1)[0]) #False positives\n",
    "    TNR = TN/(TN + FP) #Getting the True Negative Rate (Specificity)\n",
    "    return TNR"
   ]
  },
  {
   "attachments": {},
   "cell_type": "markdown",
   "metadata": {},
   "source": [
    "### All Lesion scores"
   ]
  },
  {
   "cell_type": "code",
   "execution_count": 6,
   "metadata": {},
   "outputs": [
    {
     "name": "stdout",
     "output_type": "stream",
     "text": [
      "['2554238985', '1003101869', '6915167302', '1389542280', '2451433951', '8996005906', '9943418622', '1281058682']\n"
     ]
    }
   ],
   "source": [
    "path_to_test = '/home/maarhus/Documents/Master/Results/Predictions/LGA/MS_DATA_TEST'\n",
    "\n",
    "test_files = []\n",
    "for path, dirs, files in os.walk(path_to_test):\n",
    "    if len(dirs) == 2: #Set to 2 because the lga makes 2 folders\n",
    "        test_files.append(os.path.basename(path))\n",
    "\n",
    "print(test_files)"
   ]
  },
  {
   "cell_type": "code",
   "execution_count": 9,
   "metadata": {},
   "outputs": [
    {
     "name": "stdout",
     "output_type": "stream",
     "text": [
      "Score of prediction in folder 2554238985 is: 0.40836408364083643, 0.2746828461114175, 0.9999852841272873\n",
      "Score of prediction in folder 1003101869 is: 0.6319927002175897, 0.7038774233896186, 0.9996657888759689\n",
      "Score of prediction in folder 6915167302 is: 0.5815047021943573, 0.5155164427975915, 0.9999416782951684\n",
      "Score of prediction in folder 1389542280 is: 0.7808564231738035, 0.823170731707317, 0.9998560233285897\n",
      "Score of prediction in folder 2451433951 is: 0.5300613496932516, 0.5806451612903226, 0.9999766742254507\n",
      "Score of prediction in folder 8996005906 is: 0.19496021220159152, 0.14788732394366197, 0.9999642710207604\n",
      "Score of prediction in folder 9943418622 is: 0.6522462562396006, 0.7085113374958922, 0.9998591375767972\n",
      "Score of prediction in folder 1281058682 is: 0.047936085219707054, 0.030176026823134954, 0.999970294544283\n",
      "\n",
      "The mean dice score is: 0.47849022657259227\n",
      "The median dice score is: 0.5557830259438045\n",
      "The standard deviation of the dice score is: 0.23160711901926623\n",
      "\n",
      "The mean sensitivity score is: 0.4730584116948695\n",
      "The median sensitivity score is: 0.548080802043957\n",
      "The standard deviation of the sensitivity score is: 0.2706255795157002\n",
      "\n",
      "The mean specificity score is: 0.9999023939992882\n",
      "The median specificity score is: 0.9999529746579644\n",
      "The standard deviation of the specificity score is: 0.00010147300908788155\n"
     ]
    }
   ],
   "source": [
    "dice_score_list = []\n",
    "sensitivity_list = []\n",
    "specificity_list = []\n",
    "\n",
    "for file in test_files:\n",
    "    pred_path = f'{path_to_test}/{file}/lga(0.2)_thr_0.1_map.nii'\n",
    "    true_path = f'{path_to_test}/{file}/lesions_binarised.nii'\n",
    "\n",
    "    pred_image = nib.load(pred_path).get_fdata()\n",
    "    mask_image = nib.load(true_path).get_fdata()\n",
    "\n",
    "    dice_score = my_dice(pred_image, mask_image)\n",
    "    sens = sensitivity(pred_image, mask_image)\n",
    "    spec = specificity(pred_image, mask_image)\n",
    "    print(f'Score of prediction in folder {file} is: {dice_score}, {sens}, {spec}')\n",
    "    dice_score_list.append(dice_score)\n",
    "    sensitivity_list.append(sens)\n",
    "    specificity_list.append(spec)\n",
    "\n",
    "print()\n",
    "mean_score = np.mean(dice_score_list)\n",
    "median_score = np.median(dice_score_list)\n",
    "std_score = np.std(dice_score_list)\n",
    "\n",
    "print(f'The mean dice score is: {mean_score}')\n",
    "print(f'The median dice score is: {median_score}')\n",
    "print(f'The standard deviation of the dice score is: {std_score}')\n",
    "\n",
    "print()\n",
    "mean_score = np.mean(sensitivity_list)\n",
    "median_score = np.median(sensitivity_list)\n",
    "std_score = np.std(sensitivity_list)\n",
    "\n",
    "print(f'The mean sensitivity score is: {mean_score}')\n",
    "print(f'The median sensitivity score is: {median_score}')\n",
    "print(f'The standard deviation of the sensitivity score is: {std_score}')\n",
    "\n",
    "print()\n",
    "mean_score = np.mean(specificity_list)\n",
    "median_score = np.median(specificity_list)\n",
    "std_score = np.std(specificity_list)\n",
    "\n",
    "print(f'The mean specificity score is: {mean_score}')\n",
    "print(f'The median specificity score is: {median_score}')\n",
    "print(f'The standard deviation of the specificity score is: {std_score}')"
   ]
  },
  {
   "attachments": {},
   "cell_type": "markdown",
   "metadata": {},
   "source": [
    "### Small lesion scores"
   ]
  },
  {
   "cell_type": "code",
   "execution_count": 118,
   "metadata": {},
   "outputs": [
    {
     "name": "stdout",
     "output_type": "stream",
     "text": [
      "[0.223, 0.228, 0.18, 0.182, 0.161, 0.155, 0.118, 0.089, 0.089, 0.0]\n",
      "[0.152, 0.147, 0.168, 0.162, 0.141, 0.135, 0.119, 0.12, 0.104, 0.0]\n",
      "[0.405, 0.405, 0.372, 0.372, 0.242, 0.171, 0.09, 0.045, 0.073, 0.0]\n",
      "\n",
      "[0.195, 0.197, 0.152, 0.152, 0.138, 0.13, 0.099, 0.074, 0.071, 0.0]\n",
      "[0.131, 0.125, 0.142, 0.137, 0.12, 0.11, 0.09, 0.093, 0.078, 0.0]\n",
      "[0.327, 0.327, 0.325, 0.325, 0.232, 0.164, 0.095, 0.049, 0.068, 0.0]\n",
      "\n",
      "[0.99997, 0.99998, 0.99998, 0.99998, 0.99998, 0.99999, 0.99999, 0.99999, 0.99999, 1.0]\n",
      "[1e-05, 1e-05, 1e-05, 1e-05, 1e-05, 1e-05, 1e-05, 1e-05, 0.0, 0.0]\n",
      "[0.99999, 0.99999, 0.99998, 0.99998, 0.99998, 0.99998, 0.99998, 0.99998, 0.99999, 1.0]\n"
     ]
    }
   ],
   "source": [
    "gjennomsnitt_nnunet = []\n",
    "error_nnunet = []\n",
    "\n",
    "snitt_sensitivity = []\n",
    "error_sensitivity = []\n",
    "\n",
    "snitt_specificity = []\n",
    "error_specificity = []\n",
    "\n",
    "for size in range(100, 0, -10):\n",
    "    dice_score_list = []\n",
    "    sensitivity_list = []\n",
    "    specificity_list = []\n",
    "    for file in test_files:\n",
    "        pred_path = f'/home/maarhus/Documents/Master/bwconncomp/LGA/MS_DATA_TEST/{file}/lesions_removed_size{size}.nii'\n",
    "        true_path = f'/home/maarhus/Documents/Master/bwconncomp/true_test_labels/{file}/lesions_removed_size{size}.nii'\n",
    "\n",
    "        pred_image = nib.load(pred_path).get_fdata()\n",
    "        mask_image = nib.load(true_path).get_fdata()\n",
    "\n",
    "        dice_score = my_dice(pred_image, mask_image)\n",
    "        dice_score_list.append(dice_score)\n",
    "\n",
    "        sens = sensitivity(pred_image, mask_image)\n",
    "        sensitivity_list.append(sens)\n",
    "\n",
    "        spec = specificity(pred_image, mask_image)\n",
    "        specificity_list.append(spec)\n",
    "\n",
    "    \n",
    "    mean_score = np.mean(dice_score_list)\n",
    "    median_score = np.median(dice_score_list)\n",
    "    std_score = np.std(dice_score_list)\n",
    "\n",
    "    sens_mean = np.mean(sensitivity_list)\n",
    "    sens_std = np.std(sensitivity_list)\n",
    "\n",
    "    spec_mean = np.mean(specificity_list)\n",
    "    spec_std = np.std(specificity_list)\n",
    "\n",
    "    gjennomsnitt_nnunet.append(round(mean_score, 3))\n",
    "    error_nnunet.append(round(std_score, 3))\n",
    "\n",
    "    snitt_sensitivity.append(round(sens_mean, 3))\n",
    "    error_sensitivity.append(round(sens_std, 3))\n",
    "\n",
    "    snitt_specificity.append(round(spec_mean, 5))\n",
    "    error_specificity.append(round(spec_std, 5))\n",
    "\n",
    "\n",
    "print(gjennomsnitt_nnunet)\n",
    "print(error_nnunet)\n",
    "\n",
    "print()\n",
    "print(snitt_sensitivity)\n",
    "print(error_sensitivity)\n",
    "\n",
    "print()\n",
    "print(snitt_specificity)\n",
    "print(error_specificity)\n",
    "\n",
    "    "
   ]
  }
 ],
 "metadata": {
  "kernelspec": {
   "display_name": "Python 3",
   "language": "python",
   "name": "python3"
  },
  "language_info": {
   "codemirror_mode": {
    "name": "ipython",
    "version": 3
   },
   "file_extension": ".py",
   "mimetype": "text/x-python",
   "name": "python",
   "nbconvert_exporter": "python",
   "pygments_lexer": "ipython3",
   "version": "3.8.10"
  },
  "orig_nbformat": 4,
  "vscode": {
   "interpreter": {
    "hash": "916dbcbb3f70747c44a77c7bcd40155683ae19c65e1c03b4aa3499c5328201f1"
   }
  }
 },
 "nbformat": 4,
 "nbformat_minor": 2
}
