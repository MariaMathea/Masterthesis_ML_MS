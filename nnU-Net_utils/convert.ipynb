{
 "cells": [
  {
   "cell_type": "code",
   "execution_count": 6,
   "metadata": {},
   "outputs": [],
   "source": [
    "import os\n",
    "import shutil"
   ]
  },
  {
   "attachments": {},
   "cell_type": "markdown",
   "metadata": {},
   "source": [
    "### Converting data to nnU-Net format\n",
    "The following code was used to convert the images in the training/validation/test set to a format compatible with the nnU-Net. This mostly includes renaming the images, reorganizing the folders and zipping the NIfTY images to go from .nii to .nii.gz.\n",
    "\n",
    "The final format looks like this:\n",
    "\n",
    "    nnUNet_raw_data_base/nnUNet_raw_data/\n",
    "\n",
    "        ├── Task555_MultipleSclerosis\n",
    "\n",
    "            ├── Task555_MultipleSclerosis/\n",
    "\n",
    "                ├── dataset.json\n",
    "\n",
    "                ├── imagesTr (Training images)\n",
    "                    ├── MS_001_0000.nii.gz (0000 = FLAIR)\n",
    "                    ├── MS_001_0001.nii.gz (0001 = T1)\n",
    "                    ├──  ...\n",
    "                    ├── MS_070_0000.nii.gz (Between 001-070 as there are 70 images in the training set)\n",
    "                    ├── MS_070_0001.nii.gz \n",
    "\n",
    "                ├── imagesTs (Testing images)\n",
    "                    ├── MS_071_0000.nii.gz\n",
    "                    ├── MS_071_0001.nii.gz\n",
    "                    ├──  ...\n",
    "                    ├── MS_079_0000.nii.gz (Between 071 and 079 as there are 8 images in the test/validation set)\n",
    "                    ├── MS_079_0001.nii.gz\n",
    "\n",
    "                └── labelsTr (Lesion masks to use while training, numbered to correspond to subject in training set)\n",
    "                    ├── MS_001.nii.gz\n",
    "                    ├── ...\n",
    "                    ├── MS_070.nii.gz\n",
    "\n"
   ]
  },
  {
   "attachments": {},
   "cell_type": "markdown",
   "metadata": {},
   "source": [
    "### Converting images\n",
    "The code copies the T1 and FLAIR images from their original folder into their destination folder looking like the ones above. The training images are moved into imagesTr, the lesion masks belonging to the T1 and FLAIR training images go into labelsTr and testing images into imagesTs.\n",
    "\n",
    "The same code is used to copy, move and rename the training, validation and testing images. All that need to change is the path to the original folder, and path to the destination folder. The code below show how it was used to convert the training images.\n",
    "\n",
    "The number 001-079 shown above are arbitrary. Any number is usable as long as it doesnt overlap, this code uses the Icometrix number already assigned to each subject so that the training images and their lesion masks easily correspond."
   ]
  },
  {
   "cell_type": "code",
   "execution_count": 1,
   "metadata": {},
   "outputs": [],
   "source": [
    "#Getting the original path and destination path\n",
    "#These variables have to be changed when wanting to convert validation and testset images\n",
    "original_path = \"/home/maarhus/Documents/Master/data_reoriented/MS_DATA_TRAIN\"\n",
    "destination_path = \"/home/maarhus/Documents/Master/nnUNET_data/directory_env/nnUnetFrame/dataset/nnUnet_raw/nnUNet_raw_data/Task555_MultipleSclerosis/imagesTr\"\n",
    "\n",
    "#Adding all subjects from the chosen set into a list\n",
    "#Training set = 70, validation = 8, test = 8\n",
    "all_folder_list = []\n",
    "for path, dirs, files in os.walk(original_path):\n",
    "    if len(dirs) == 0:\n",
    "        all_folder_list.append(os.path.basename(path))\n"
   ]
  },
  {
   "cell_type": "code",
   "execution_count": 16,
   "metadata": {},
   "outputs": [],
   "source": [
    "#Iterating through every subject in the chosen set\n",
    "for folder in all_folder_list:\n",
    "\n",
    "    #Getting path to T1 and FLAIR images\n",
    "    t1_path = f\"{original_path}/{folder}/T1.nii\"\n",
    "    flair_path = f\"{original_path}/{folder}/FLAIR.nii\"\n",
    "\n",
    "    #Copy T1 image into destication and renaming it to fit nnU-Net format\n",
    "    shutil.copy2(t1_path,destination_path)\n",
    "    old_t1_name = f\"{destination_path}/T1.nii\"\n",
    "    new_t1_name = f\"{destination_path}/MS_{folder}_0001.nii\"\n",
    "    os.rename(old_t1_name, new_t1_name)\n",
    "\n",
    "    #Copy FLAIR image into destication and renaming it to fit nnU-Net format\n",
    "    shutil.copy2(flair_path,destination_path)\n",
    "    old_flair_name = f\"{destination_path}/FLAIR.nii\"\n",
    "    new_flair_name = f\"{destination_path}/MS_{folder}_0000.nii\"\n",
    "    os.rename(old_flair_name, new_flair_name)\n",
    "\n",
    "    #Zipping the T1 and FLAIR to fit nnU-Net format\n",
    "    !cd \"{destination_path}\" && gzip \"MS_{folder}_0001.nii\"\n",
    "    !cd \"{destination_path}\" && gzip \"MS_{folder}_0000.nii\"\n"
   ]
  },
  {
   "attachments": {},
   "cell_type": "markdown",
   "metadata": {},
   "source": [
    "#### Converting lesion masks\n",
    "The same is done for the lesion masks to convert them into the nnU-Net format. The only difference is the name given and the copying and renaming only have to happen once as it is only one image per subject."
   ]
  },
  {
   "cell_type": "code",
   "execution_count": 1,
   "metadata": {},
   "outputs": [],
   "source": [
    "#Getting the original path and destination path\n",
    "labels_folder_path = \"/home/maarhus/Documents/Master/data_reoriented/MS_DATA_TRAIN\"\n",
    "labels_destination_path = \"/home/maarhus/Documents/Master/nnUNET_data/directory_env/nnUnetFrame/dataset/nnUnet_raw/nnUNet_raw_data/Task555_MultipleSclerosis/labelsTr\"\n",
    "\n",
    "#Adding all subjects from the chosen set into a list\n",
    "all_labels_list = []\n",
    "for path, dirs, files in os.walk(labels_folder_path):\n",
    "    if len(dirs) == 0:\n",
    "        all_labels_list.append(os.path.basename(path))\n"
   ]
  },
  {
   "cell_type": "code",
   "execution_count": 20,
   "metadata": {},
   "outputs": [],
   "source": [
    "for folder in all_labels_list:\n",
    "    label_path = f\"{labels_folder_path}/{folder}/lesions_binarised.nii\"\n",
    "\n",
    "    #Copy and rename label\n",
    "    shutil.copy2(label_path,labels_destination_path)\n",
    "    old_label_name = f\"{labels_destination_path}/lesions_binarised.nii\"\n",
    "    new_label_name = f\"{labels_destination_path}/MS_{folder}.nii\"\n",
    "    os.rename(old_label_name, new_label_name)\n",
    "\n",
    "    !cd \"{labels_destination_path}\" && gzip \"MS_{folder}.nii\"\n"
   ]
  }
 ],
 "metadata": {
  "kernelspec": {
   "display_name": "Python 3",
   "language": "python",
   "name": "python3"
  },
  "language_info": {
   "codemirror_mode": {
    "name": "ipython",
    "version": 3
   },
   "file_extension": ".py",
   "mimetype": "text/x-python",
   "name": "python",
   "nbconvert_exporter": "python",
   "pygments_lexer": "ipython3",
   "version": "3.8.10"
  },
  "orig_nbformat": 4,
  "vscode": {
   "interpreter": {
    "hash": "916dbcbb3f70747c44a77c7bcd40155683ae19c65e1c03b4aa3499c5328201f1"
   }
  }
 },
 "nbformat": 4,
 "nbformat_minor": 2
}
