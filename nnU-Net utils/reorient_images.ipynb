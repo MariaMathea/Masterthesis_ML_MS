{
 "cells": [
  {
   "cell_type": "code",
   "execution_count": 1,
   "metadata": {},
   "outputs": [],
   "source": [
    "import os"
   ]
  },
  {
   "attachments": {},
   "cell_type": "markdown",
   "metadata": {},
   "source": [
    "### Reorient\n",
    "This code reorients two images to have the same affinities\n",
    "In the example below the lesion mask NIfTI images are made to have the same orientation as their corresponding T1 images"
   ]
  },
  {
   "cell_type": "code",
   "execution_count": 1,
   "metadata": {},
   "outputs": [],
   "source": [
    "path_folders = \"/home/maarhus/Documents/Master/data_reoriented/MS_DATA_TRAIN\"\n",
    "image1 = \"T1.nii\"\n",
    "image2 = \"lesions_binarised.nii\"\n",
    "\n",
    "all_folder_list = []\n",
    "for path, dirs, files in os.walk(path_folders):\n",
    "    if len(dirs) == 0:\n",
    "        all_folder_list.append(os.path.basename(path))"
   ]
  },
  {
   "cell_type": "code",
   "execution_count": 3,
   "metadata": {},
   "outputs": [],
   "source": [
    "for folder in all_folder_list:\n",
    "    !cd \"{path_folders}/{folder}\" && fslcpgeom {image1} {image2}\n"
   ]
  }
 ],
 "metadata": {
  "kernelspec": {
   "display_name": "Python 3",
   "language": "python",
   "name": "python3"
  },
  "language_info": {
   "codemirror_mode": {
    "name": "ipython",
    "version": 3
   },
   "file_extension": ".py",
   "mimetype": "text/x-python",
   "name": "python",
   "nbconvert_exporter": "python",
   "pygments_lexer": "ipython3",
   "version": "3.8.10"
  },
  "orig_nbformat": 4,
  "vscode": {
   "interpreter": {
    "hash": "916dbcbb3f70747c44a77c7bcd40155683ae19c65e1c03b4aa3499c5328201f1"
   }
  }
 },
 "nbformat": 4,
 "nbformat_minor": 2
}
