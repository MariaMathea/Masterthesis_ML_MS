{
 "cells": [
  {
   "cell_type": "code",
   "execution_count": null,
   "metadata": {},
   "outputs": [],
   "source": [
    "import os\n",
    "import pickle\n",
    "import numpy as np\n",
    "import SimpleITK as sitk"
   ]
  },
  {
   "attachments": {},
   "cell_type": "markdown",
   "metadata": {},
   "source": [
    "### Generating probability map\n",
    "The code below generates a NIfTI probability map from the files outputted from the nnU-Net after inference.\n",
    "The probability map from the nnU-Net is outputted as a numpy array (.npz) and a corresponding pickle file (.pkl) that contains the information to reconstruct a NIfTI image.\n",
    "\n",
    "In the code below all images in the test set is converted and used as an example. To convert the other datasets only the paths has to change."
   ]
  },
  {
   "cell_type": "code",
   "execution_count": 2,
   "metadata": {},
   "outputs": [],
   "source": [
    "#Adding all subjects from the chosen set into a list\n",
    "all_files_list = []\n",
    "for path, dirs, files in os.walk(\"/home/maarhus/Documents/Master/data_reoriented/MS_DATA_TEST\"): \n",
    "    if len(dirs) == 0:\n",
    "        all_files_list.append(os.path.basename(path))"
   ]
  },
  {
   "cell_type": "code",
   "execution_count": 197,
   "metadata": {},
   "outputs": [],
   "source": [
    "#Iterating through all subjects in the test set\n",
    "for file in all_files_list:\n",
    "    #Path to pickle file\n",
    "    pkl_path = f'/home/maarhus/Documents/Master/nnUNET_data/directory_env/nnUnetFrame/dataset/nnUnet_raw/\\\n",
    "                    nnUnet_raw_data/nnUNet_raw_data/Task555_MultipleSclerosis/preds/MS_{file}.pkl'\n",
    "\n",
    "    #Open pkl file to find affinities\n",
    "    with open(pkl_path, 'rb') as f:\n",
    "        data = pickle.load(f)\n",
    "\n",
    "    #Path to numpy array containing softmax probabilities\n",
    "    npz_path = f'/home/maarhus/Documents/Master/nnUNET_data/directory_env/nnUnetFrame/dataset/nnUnet_raw/\\\n",
    "                    nnUnet_raw_data/nnUNet_raw_data/Task555_MultipleSclerosis/preds/MS_{file}.npz'\n",
    "    \n",
    "    #Loading into an array\n",
    "    npz_array = np.load(npz_path)\n",
    "\n",
    "    #Get probabilities from the numpy array\n",
    "    prob_img = npz_array['softmax'][1,:,:,:]\n",
    "    prob_img = np.array(prob_img,dtype='float64')\n",
    "\n",
    "    #Remove noise from the image, values under 0.1 or over 1 gets set to 0\n",
    "    prob_img[prob_img < 0.1] = 0\n",
    "    prob_img[prob_img > 1] = 0\n",
    "\n",
    "    #Save probabilities as NIfTY image using affinities from the pickle file\n",
    "    seg_resized_itk = sitk.GetImageFromArray(prob_img)\n",
    "    seg_resized_itk.SetSpacing(data['itk_spacing'])\n",
    "    seg_resized_itk.SetOrigin(data['itk_origin'])\n",
    "    seg_resized_itk.SetDirection(data['itk_direction'])\n",
    "    sitk.WriteImage(seg_resized_itk, f\"/home/maarhus/Documents/Master/nnUNET_data/directory_env/nnUnetFrame/dataset/nnUnet_raw/\\\n",
    "                                            nnUnet_raw_data/nnUNet_raw_data/Task555_MultipleSclerosis/preds/\\\n",
    "                                                probmap_folder/probmap_{file}.nii\")"
   ]
  }
 ],
 "metadata": {
  "kernelspec": {
   "display_name": "Python 3",
   "language": "python",
   "name": "python3"
  },
  "language_info": {
   "codemirror_mode": {
    "name": "ipython",
    "version": 3
   },
   "file_extension": ".py",
   "mimetype": "text/x-python",
   "name": "python",
   "nbconvert_exporter": "python",
   "pygments_lexer": "ipython3",
   "version": "3.8.10"
  },
  "orig_nbformat": 4,
  "vscode": {
   "interpreter": {
    "hash": "916dbcbb3f70747c44a77c7bcd40155683ae19c65e1c03b4aa3499c5328201f1"
   }
  }
 },
 "nbformat": 4,
 "nbformat_minor": 2
}
